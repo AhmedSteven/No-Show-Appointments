{
 "cells": [
  {
   "cell_type": "code",
   "execution_count": 11,
   "id": "0e45ce76",
   "metadata": {},
   "outputs": [],
   "source": [
    "# Use this cell to set up import statements for all of the packages that you\n",
    "#   plan to use.\n",
    "import pandas as pd\n",
    "import numpy as np\n",
    "import matplotlib.pyplot as plt\n",
    "# Remember to include a 'magic word' so that your visualizations are plotted\n",
    "#   inline with the notebook. See this page for more:\n",
    "#   http://ipython.readthedocs.io/en/stable/interactive/magics.html\n",
    "%matplotlib inline"
   ]
  },
  {
   "cell_type": "markdown",
   "id": "131d66dc",
   "metadata": {},
   "source": [
    "# Data Wrangling And Reading Data"
   ]
  },
  {
   "cell_type": "code",
   "execution_count": 12,
   "id": "b9b01c73",
   "metadata": {},
   "outputs": [],
   "source": [
    "df=pd.read_csv(r'Dataset No_show.csv') #load dataset anto a dataframe"
   ]
  },
  {
   "cell_type": "code",
   "execution_count": 13,
   "id": "a7787ec4",
   "metadata": {},
   "outputs": [
    {
     "data": {
      "text/html": [
       "<div>\n",
       "<style scoped>\n",
       "    .dataframe tbody tr th:only-of-type {\n",
       "        vertical-align: middle;\n",
       "    }\n",
       "\n",
       "    .dataframe tbody tr th {\n",
       "        vertical-align: top;\n",
       "    }\n",
       "\n",
       "    .dataframe thead th {\n",
       "        text-align: right;\n",
       "    }\n",
       "</style>\n",
       "<table border=\"1\" class=\"dataframe\">\n",
       "  <thead>\n",
       "    <tr style=\"text-align: right;\">\n",
       "      <th></th>\n",
       "      <th>PatientId</th>\n",
       "      <th>AppointmentID</th>\n",
       "      <th>Gender</th>\n",
       "      <th>ScheduledDay</th>\n",
       "      <th>AppointmentDay</th>\n",
       "      <th>Age</th>\n",
       "      <th>Neighbourhood</th>\n",
       "      <th>Scholarship</th>\n",
       "      <th>Hipertension</th>\n",
       "      <th>Diabetes</th>\n",
       "      <th>Alcoholism</th>\n",
       "      <th>Handcap</th>\n",
       "      <th>SMS_received</th>\n",
       "      <th>No-show</th>\n",
       "    </tr>\n",
       "  </thead>\n",
       "  <tbody>\n",
       "    <tr>\n",
       "      <th>0</th>\n",
       "      <td>2.987250e+13</td>\n",
       "      <td>5642903</td>\n",
       "      <td>F</td>\n",
       "      <td>2016-04-29T18:38:08Z</td>\n",
       "      <td>2016-04-29T00:00:00Z</td>\n",
       "      <td>62</td>\n",
       "      <td>JARDIM DA PENHA</td>\n",
       "      <td>0</td>\n",
       "      <td>1</td>\n",
       "      <td>0</td>\n",
       "      <td>0</td>\n",
       "      <td>0</td>\n",
       "      <td>0</td>\n",
       "      <td>No</td>\n",
       "    </tr>\n",
       "    <tr>\n",
       "      <th>1</th>\n",
       "      <td>5.589978e+14</td>\n",
       "      <td>5642503</td>\n",
       "      <td>M</td>\n",
       "      <td>2016-04-29T16:08:27Z</td>\n",
       "      <td>2016-04-29T00:00:00Z</td>\n",
       "      <td>56</td>\n",
       "      <td>JARDIM DA PENHA</td>\n",
       "      <td>0</td>\n",
       "      <td>0</td>\n",
       "      <td>0</td>\n",
       "      <td>0</td>\n",
       "      <td>0</td>\n",
       "      <td>0</td>\n",
       "      <td>No</td>\n",
       "    </tr>\n",
       "    <tr>\n",
       "      <th>2</th>\n",
       "      <td>4.262962e+12</td>\n",
       "      <td>5642549</td>\n",
       "      <td>F</td>\n",
       "      <td>2016-04-29T16:19:04Z</td>\n",
       "      <td>2016-04-29T00:00:00Z</td>\n",
       "      <td>62</td>\n",
       "      <td>MATA DA PRAIA</td>\n",
       "      <td>0</td>\n",
       "      <td>0</td>\n",
       "      <td>0</td>\n",
       "      <td>0</td>\n",
       "      <td>0</td>\n",
       "      <td>0</td>\n",
       "      <td>No</td>\n",
       "    </tr>\n",
       "    <tr>\n",
       "      <th>3</th>\n",
       "      <td>8.679512e+11</td>\n",
       "      <td>5642828</td>\n",
       "      <td>F</td>\n",
       "      <td>2016-04-29T17:29:31Z</td>\n",
       "      <td>2016-04-29T00:00:00Z</td>\n",
       "      <td>8</td>\n",
       "      <td>PONTAL DE CAMBURI</td>\n",
       "      <td>0</td>\n",
       "      <td>0</td>\n",
       "      <td>0</td>\n",
       "      <td>0</td>\n",
       "      <td>0</td>\n",
       "      <td>0</td>\n",
       "      <td>No</td>\n",
       "    </tr>\n",
       "    <tr>\n",
       "      <th>4</th>\n",
       "      <td>8.841186e+12</td>\n",
       "      <td>5642494</td>\n",
       "      <td>F</td>\n",
       "      <td>2016-04-29T16:07:23Z</td>\n",
       "      <td>2016-04-29T00:00:00Z</td>\n",
       "      <td>56</td>\n",
       "      <td>JARDIM DA PENHA</td>\n",
       "      <td>0</td>\n",
       "      <td>1</td>\n",
       "      <td>1</td>\n",
       "      <td>0</td>\n",
       "      <td>0</td>\n",
       "      <td>0</td>\n",
       "      <td>No</td>\n",
       "    </tr>\n",
       "  </tbody>\n",
       "</table>\n",
       "</div>"
      ],
      "text/plain": [
       "      PatientId  AppointmentID Gender          ScheduledDay  \\\n",
       "0  2.987250e+13        5642903      F  2016-04-29T18:38:08Z   \n",
       "1  5.589978e+14        5642503      M  2016-04-29T16:08:27Z   \n",
       "2  4.262962e+12        5642549      F  2016-04-29T16:19:04Z   \n",
       "3  8.679512e+11        5642828      F  2016-04-29T17:29:31Z   \n",
       "4  8.841186e+12        5642494      F  2016-04-29T16:07:23Z   \n",
       "\n",
       "         AppointmentDay  Age      Neighbourhood  Scholarship  Hipertension  \\\n",
       "0  2016-04-29T00:00:00Z   62    JARDIM DA PENHA            0             1   \n",
       "1  2016-04-29T00:00:00Z   56    JARDIM DA PENHA            0             0   \n",
       "2  2016-04-29T00:00:00Z   62      MATA DA PRAIA            0             0   \n",
       "3  2016-04-29T00:00:00Z    8  PONTAL DE CAMBURI            0             0   \n",
       "4  2016-04-29T00:00:00Z   56    JARDIM DA PENHA            0             1   \n",
       "\n",
       "   Diabetes  Alcoholism  Handcap  SMS_received No-show  \n",
       "0         0           0        0             0      No  \n",
       "1         0           0        0             0      No  \n",
       "2         0           0        0             0      No  \n",
       "3         0           0        0             0      No  \n",
       "4         1           0        0             0      No  "
      ]
     },
     "execution_count": 13,
     "metadata": {},
     "output_type": "execute_result"
    }
   ],
   "source": [
    "df.head() #shows the first 5 rows of data"
   ]
  },
  {
   "cell_type": "code",
   "execution_count": 14,
   "id": "60f63dee",
   "metadata": {},
   "outputs": [
    {
     "name": "stdout",
     "output_type": "stream",
     "text": [
      "<class 'pandas.core.frame.DataFrame'>\n",
      "RangeIndex: 110527 entries, 0 to 110526\n",
      "Data columns (total 14 columns):\n",
      " #   Column          Non-Null Count   Dtype  \n",
      "---  ------          --------------   -----  \n",
      " 0   PatientId       110527 non-null  float64\n",
      " 1   AppointmentID   110527 non-null  int64  \n",
      " 2   Gender          110527 non-null  object \n",
      " 3   ScheduledDay    110527 non-null  object \n",
      " 4   AppointmentDay  110527 non-null  object \n",
      " 5   Age             110527 non-null  int64  \n",
      " 6   Neighbourhood   110527 non-null  object \n",
      " 7   Scholarship     110527 non-null  int64  \n",
      " 8   Hipertension    110527 non-null  int64  \n",
      " 9   Diabetes        110527 non-null  int64  \n",
      " 10  Alcoholism      110527 non-null  int64  \n",
      " 11  Handcap         110527 non-null  int64  \n",
      " 12  SMS_received    110527 non-null  int64  \n",
      " 13  No-show         110527 non-null  object \n",
      "dtypes: float64(1), int64(8), object(5)\n",
      "memory usage: 11.8+ MB\n"
     ]
    }
   ],
   "source": [
    "df.info()"
   ]
  },
  {
   "cell_type": "code",
   "execution_count": 15,
   "id": "6cad9941",
   "metadata": {},
   "outputs": [
    {
     "data": {
      "text/plain": [
       "0"
      ]
     },
     "execution_count": 15,
     "metadata": {},
     "output_type": "execute_result"
    }
   ],
   "source": [
    "sum(df.duplicated()) # There are no duplicate rows in this dataset."
   ]
  },
  {
   "cell_type": "code",
   "execution_count": 16,
   "id": "700e6350",
   "metadata": {
    "scrolled": true
   },
   "outputs": [
    {
     "data": {
      "text/html": [
       "<div>\n",
       "<style scoped>\n",
       "    .dataframe tbody tr th:only-of-type {\n",
       "        vertical-align: middle;\n",
       "    }\n",
       "\n",
       "    .dataframe tbody tr th {\n",
       "        vertical-align: top;\n",
       "    }\n",
       "\n",
       "    .dataframe thead th {\n",
       "        text-align: right;\n",
       "    }\n",
       "</style>\n",
       "<table border=\"1\" class=\"dataframe\">\n",
       "  <thead>\n",
       "    <tr style=\"text-align: right;\">\n",
       "      <th></th>\n",
       "      <th>PatientId</th>\n",
       "      <th>AppointmentID</th>\n",
       "      <th>Age</th>\n",
       "      <th>Scholarship</th>\n",
       "      <th>Hipertension</th>\n",
       "      <th>Diabetes</th>\n",
       "      <th>Alcoholism</th>\n",
       "      <th>Handcap</th>\n",
       "      <th>SMS_received</th>\n",
       "    </tr>\n",
       "  </thead>\n",
       "  <tbody>\n",
       "    <tr>\n",
       "      <th>count</th>\n",
       "      <td>1.105270e+05</td>\n",
       "      <td>1.105270e+05</td>\n",
       "      <td>110527.000000</td>\n",
       "      <td>110527.000000</td>\n",
       "      <td>110527.000000</td>\n",
       "      <td>110527.000000</td>\n",
       "      <td>110527.000000</td>\n",
       "      <td>110527.000000</td>\n",
       "      <td>110527.000000</td>\n",
       "    </tr>\n",
       "    <tr>\n",
       "      <th>mean</th>\n",
       "      <td>1.474963e+14</td>\n",
       "      <td>5.675305e+06</td>\n",
       "      <td>37.088874</td>\n",
       "      <td>0.098266</td>\n",
       "      <td>0.197246</td>\n",
       "      <td>0.071865</td>\n",
       "      <td>0.030400</td>\n",
       "      <td>0.022248</td>\n",
       "      <td>0.321026</td>\n",
       "    </tr>\n",
       "    <tr>\n",
       "      <th>std</th>\n",
       "      <td>2.560949e+14</td>\n",
       "      <td>7.129575e+04</td>\n",
       "      <td>23.110205</td>\n",
       "      <td>0.297675</td>\n",
       "      <td>0.397921</td>\n",
       "      <td>0.258265</td>\n",
       "      <td>0.171686</td>\n",
       "      <td>0.161543</td>\n",
       "      <td>0.466873</td>\n",
       "    </tr>\n",
       "    <tr>\n",
       "      <th>min</th>\n",
       "      <td>3.921784e+04</td>\n",
       "      <td>5.030230e+06</td>\n",
       "      <td>-1.000000</td>\n",
       "      <td>0.000000</td>\n",
       "      <td>0.000000</td>\n",
       "      <td>0.000000</td>\n",
       "      <td>0.000000</td>\n",
       "      <td>0.000000</td>\n",
       "      <td>0.000000</td>\n",
       "    </tr>\n",
       "    <tr>\n",
       "      <th>25%</th>\n",
       "      <td>4.172614e+12</td>\n",
       "      <td>5.640286e+06</td>\n",
       "      <td>18.000000</td>\n",
       "      <td>0.000000</td>\n",
       "      <td>0.000000</td>\n",
       "      <td>0.000000</td>\n",
       "      <td>0.000000</td>\n",
       "      <td>0.000000</td>\n",
       "      <td>0.000000</td>\n",
       "    </tr>\n",
       "    <tr>\n",
       "      <th>50%</th>\n",
       "      <td>3.173184e+13</td>\n",
       "      <td>5.680573e+06</td>\n",
       "      <td>37.000000</td>\n",
       "      <td>0.000000</td>\n",
       "      <td>0.000000</td>\n",
       "      <td>0.000000</td>\n",
       "      <td>0.000000</td>\n",
       "      <td>0.000000</td>\n",
       "      <td>0.000000</td>\n",
       "    </tr>\n",
       "    <tr>\n",
       "      <th>75%</th>\n",
       "      <td>9.439172e+13</td>\n",
       "      <td>5.725524e+06</td>\n",
       "      <td>55.000000</td>\n",
       "      <td>0.000000</td>\n",
       "      <td>0.000000</td>\n",
       "      <td>0.000000</td>\n",
       "      <td>0.000000</td>\n",
       "      <td>0.000000</td>\n",
       "      <td>1.000000</td>\n",
       "    </tr>\n",
       "    <tr>\n",
       "      <th>max</th>\n",
       "      <td>9.999816e+14</td>\n",
       "      <td>5.790484e+06</td>\n",
       "      <td>115.000000</td>\n",
       "      <td>1.000000</td>\n",
       "      <td>1.000000</td>\n",
       "      <td>1.000000</td>\n",
       "      <td>1.000000</td>\n",
       "      <td>4.000000</td>\n",
       "      <td>1.000000</td>\n",
       "    </tr>\n",
       "  </tbody>\n",
       "</table>\n",
       "</div>"
      ],
      "text/plain": [
       "          PatientId  AppointmentID            Age    Scholarship  \\\n",
       "count  1.105270e+05   1.105270e+05  110527.000000  110527.000000   \n",
       "mean   1.474963e+14   5.675305e+06      37.088874       0.098266   \n",
       "std    2.560949e+14   7.129575e+04      23.110205       0.297675   \n",
       "min    3.921784e+04   5.030230e+06      -1.000000       0.000000   \n",
       "25%    4.172614e+12   5.640286e+06      18.000000       0.000000   \n",
       "50%    3.173184e+13   5.680573e+06      37.000000       0.000000   \n",
       "75%    9.439172e+13   5.725524e+06      55.000000       0.000000   \n",
       "max    9.999816e+14   5.790484e+06     115.000000       1.000000   \n",
       "\n",
       "        Hipertension       Diabetes     Alcoholism        Handcap  \\\n",
       "count  110527.000000  110527.000000  110527.000000  110527.000000   \n",
       "mean        0.197246       0.071865       0.030400       0.022248   \n",
       "std         0.397921       0.258265       0.171686       0.161543   \n",
       "min         0.000000       0.000000       0.000000       0.000000   \n",
       "25%         0.000000       0.000000       0.000000       0.000000   \n",
       "50%         0.000000       0.000000       0.000000       0.000000   \n",
       "75%         0.000000       0.000000       0.000000       0.000000   \n",
       "max         1.000000       1.000000       1.000000       4.000000   \n",
       "\n",
       "        SMS_received  \n",
       "count  110527.000000  \n",
       "mean        0.321026  \n",
       "std         0.466873  \n",
       "min         0.000000  \n",
       "25%         0.000000  \n",
       "50%         0.000000  \n",
       "75%         1.000000  \n",
       "max         1.000000  "
      ]
     },
     "execution_count": 16,
     "metadata": {},
     "output_type": "execute_result"
    }
   ],
   "source": [
    "df.describe() #get statistical data about each column"
   ]
  },
  {
   "cell_type": "markdown",
   "id": "92e6ae3e",
   "metadata": {},
   "source": [
    ">- The age column has one or more negative values that must be removed\n",
    "\n",
    ">- We have ages from -1 to 115, so we have a wide range of ages to investigate.\n",
    "\n",
    ">- In the gender column, there are two values, F, M, while the most common is the value F, so it turns out that women are more than men\n",
    "\n",
    ">- \"Scholarship\", \"Hipertension\", \"Diabetes\", \"Alcoholism\", \"Handcap\", and \"SMS_received\" are encoded in form of zeros and ones, thats why it has type of int64, and appears like a continous data type.\n",
    "\n",
    ">- Show up has 2 unique values yes or No and the most frequent one is No which means that most of the patients show up on their appointments.\n",
    "\n",
    "\n",
    "\n"
   ]
  },
  {
   "cell_type": "code",
   "execution_count": 17,
   "id": "0db41bdc",
   "metadata": {},
   "outputs": [
    {
     "data": {
      "image/png": "[encoded data removed]",
      "text/plain": [
       "<Figure size 1224x1224 with 9 Axes>"
      ]
     },
     "metadata": {
      "needs_background": "light"
     },
     "output_type": "display_data"
    }
   ],
   "source": [
    "#draw Histogram to show distribution of data for each feature\n",
    "df.hist(figsize=(17,17))\n",
    "plt.suptitle('The histogram shows the number of each', fontsize=20);"
   ]
  },
  {
   "cell_type": "markdown",
   "id": "1f739822",
   "metadata": {},
   "source": [
    ">- There is understandable data in the following columns: AppointmentId and PatientId, so we need to change their types to strings\n",
    "\n",
    ">- We notice in the figure that the young tooth is large compared to the old age\n",
    "\n",
    ">- The percentage of diabetes and the percentage of the grant under the Brazilian care program, the indications are soon that it does not exceed 10%\n",
    "\n",
    ">- In terms of the proportion of patients with high blood pressure that exceeded 20%, this is very important\n",
    "\n",
    ">- Percentage of Alcoholism and Handicap is extremely low\n",
    "\n",
    ">- In terms of the rate of receiving SMS messages, it almost exceeded 35% of those who received messages\n"
   ]
  },
  {
   "cell_type": "markdown",
   "id": "63189bdb",
   "metadata": {},
   "source": [
    "# Data Cleaning"
   ]
  },
  {
   "cell_type": "markdown",
   "id": "acca6c82",
   "metadata": {},
   "source": [
    "# 1- Change the \"No Show\" values to make it easier to deal with\n"
   ]
  },
  {
   "cell_type": "code",
   "execution_count": 18,
   "id": "79b37851",
   "metadata": {},
   "outputs": [],
   "source": [
    "#We will invert the values in terms of\n",
    "#-1.. 0 means that the patient did not show up on time\n",
    "#-2..1 means that the patient came on time\n",
    "df[\"No-show\"].replace({\"Yes\":0,\"No\":1},inplace=True)"
   ]
  },
  {
   "cell_type": "code",
   "execution_count": 19,
   "id": "3576bac7",
   "metadata": {},
   "outputs": [],
   "source": [
    "#Change the datatype of the column to be an integer, this is just to make sure that I'm specifying the values 0, 1 are actually integers\n",
    "df['No-show'] = df['No-show'].astype('int64')"
   ]
  },
  {
   "cell_type": "code",
   "execution_count": 20,
   "id": "fdf2cd0e",
   "metadata": {},
   "outputs": [
    {
     "name": "stdout",
     "output_type": "stream",
     "text": [
      "<class 'pandas.core.frame.DataFrame'>\n",
      "RangeIndex: 110527 entries, 0 to 110526\n",
      "Data columns (total 14 columns):\n",
      " #   Column          Non-Null Count   Dtype  \n",
      "---  ------          --------------   -----  \n",
      " 0   PatientId       110527 non-null  float64\n",
      " 1   AppointmentID   110527 non-null  int64  \n",
      " 2   Gender          110527 non-null  object \n",
      " 3   ScheduledDay    110527 non-null  object \n",
      " 4   AppointmentDay  110527 non-null  object \n",
      " 5   Age             110527 non-null  int64  \n",
      " 6   Neighbourhood   110527 non-null  object \n",
      " 7   Scholarship     110527 non-null  int64  \n",
      " 8   Hipertension    110527 non-null  int64  \n",
      " 9   Diabetes        110527 non-null  int64  \n",
      " 10  Alcoholism      110527 non-null  int64  \n",
      " 11  Handcap         110527 non-null  int64  \n",
      " 12  SMS_received    110527 non-null  int64  \n",
      " 13  No-show         110527 non-null  int64  \n",
      "dtypes: float64(1), int64(9), object(4)\n",
      "memory usage: 11.8+ MB\n"
     ]
    }
   ],
   "source": [
    "df.info() #To make sure the column type has changed"
   ]
  },
  {
   "cell_type": "markdown",
   "id": "acbd95d5",
   "metadata": {},
   "source": [
    ">- After displaying the data, we need to change the data type of the columns “ScheduledDay” and “AppointmentDay” to a data type of dates in order to work with them"
   ]
  },
  {
   "cell_type": "code",
   "execution_count": 21,
   "id": "7e588285",
   "metadata": {},
   "outputs": [],
   "source": [
    "df['ScheduledDay'] = pd.to_datetime(df['ScheduledDay'])"
   ]
  },
  {
   "cell_type": "code",
   "execution_count": 22,
   "id": "f92b60a5",
   "metadata": {},
   "outputs": [],
   "source": [
    "df['AppointmentDay'] = pd.to_datetime(df['AppointmentDay'])"
   ]
  },
  {
   "cell_type": "code",
   "execution_count": 23,
   "id": "383c8bae",
   "metadata": {},
   "outputs": [
    {
     "name": "stdout",
     "output_type": "stream",
     "text": [
      "<class 'pandas.core.frame.DataFrame'>\n",
      "RangeIndex: 110527 entries, 0 to 110526\n",
      "Data columns (total 14 columns):\n",
      " #   Column          Non-Null Count   Dtype              \n",
      "---  ------          --------------   -----              \n",
      " 0   PatientId       110527 non-null  float64            \n",
      " 1   AppointmentID   110527 non-null  int64              \n",
      " 2   Gender          110527 non-null  object             \n",
      " 3   ScheduledDay    110527 non-null  datetime64[ns, UTC]\n",
      " 4   AppointmentDay  110527 non-null  datetime64[ns, UTC]\n",
      " 5   Age             110527 non-null  int64              \n",
      " 6   Neighbourhood   110527 non-null  object             \n",
      " 7   Scholarship     110527 non-null  int64              \n",
      " 8   Hipertension    110527 non-null  int64              \n",
      " 9   Diabetes        110527 non-null  int64              \n",
      " 10  Alcoholism      110527 non-null  int64              \n",
      " 11  Handcap         110527 non-null  int64              \n",
      " 12  SMS_received    110527 non-null  int64              \n",
      " 13  No-show         110527 non-null  int64              \n",
      "dtypes: datetime64[ns, UTC](2), float64(1), int64(9), object(2)\n",
      "memory usage: 11.8+ MB\n"
     ]
    }
   ],
   "source": [
    "df.info() #Changed successfully"
   ]
  },
  {
   "cell_type": "code",
   "execution_count": 24,
   "id": "173b3037",
   "metadata": {},
   "outputs": [],
   "source": [
    "df['PatientId'] = df['PatientId'].astype(str) #Changed successfully"
   ]
  },
  {
   "cell_type": "code",
   "execution_count": 25,
   "id": "42e3ae6d",
   "metadata": {},
   "outputs": [],
   "source": [
    "df['AppointmentID'] = df['AppointmentID'].astype('str') #Changed successfully"
   ]
  },
  {
   "cell_type": "code",
   "execution_count": 26,
   "id": "33eda70f",
   "metadata": {},
   "outputs": [
    {
     "name": "stdout",
     "output_type": "stream",
     "text": [
      "<class 'pandas.core.frame.DataFrame'>\n",
      "RangeIndex: 110527 entries, 0 to 110526\n",
      "Data columns (total 14 columns):\n",
      " #   Column          Non-Null Count   Dtype              \n",
      "---  ------          --------------   -----              \n",
      " 0   PatientId       110527 non-null  object             \n",
      " 1   AppointmentID   110527 non-null  object             \n",
      " 2   Gender          110527 non-null  object             \n",
      " 3   ScheduledDay    110527 non-null  datetime64[ns, UTC]\n",
      " 4   AppointmentDay  110527 non-null  datetime64[ns, UTC]\n",
      " 5   Age             110527 non-null  int64              \n",
      " 6   Neighbourhood   110527 non-null  object             \n",
      " 7   Scholarship     110527 non-null  int64              \n",
      " 8   Hipertension    110527 non-null  int64              \n",
      " 9   Diabetes        110527 non-null  int64              \n",
      " 10  Alcoholism      110527 non-null  int64              \n",
      " 11  Handcap         110527 non-null  int64              \n",
      " 12  SMS_received    110527 non-null  int64              \n",
      " 13  No-show         110527 non-null  int64              \n",
      "dtypes: datetime64[ns, UTC](2), int64(8), object(4)\n",
      "memory usage: 11.8+ MB\n"
     ]
    }
   ],
   "source": [
    "df.info()"
   ]
  },
  {
   "cell_type": "code",
   "execution_count": 27,
   "id": "465c84e5",
   "metadata": {},
   "outputs": [
    {
     "data": {
      "text/html": [
       "<div>\n",
       "<style scoped>\n",
       "    .dataframe tbody tr th:only-of-type {\n",
       "        vertical-align: middle;\n",
       "    }\n",
       "\n",
       "    .dataframe tbody tr th {\n",
       "        vertical-align: top;\n",
       "    }\n",
       "\n",
       "    .dataframe thead th {\n",
       "        text-align: right;\n",
       "    }\n",
       "</style>\n",
       "<table border=\"1\" class=\"dataframe\">\n",
       "  <thead>\n",
       "    <tr style=\"text-align: right;\">\n",
       "      <th></th>\n",
       "      <th>Age</th>\n",
       "      <th>Scholarship</th>\n",
       "      <th>Hipertension</th>\n",
       "      <th>Diabetes</th>\n",
       "      <th>Alcoholism</th>\n",
       "      <th>Handcap</th>\n",
       "      <th>SMS_received</th>\n",
       "      <th>No-show</th>\n",
       "    </tr>\n",
       "  </thead>\n",
       "  <tbody>\n",
       "    <tr>\n",
       "      <th>count</th>\n",
       "      <td>110527.000000</td>\n",
       "      <td>110527.000000</td>\n",
       "      <td>110527.000000</td>\n",
       "      <td>110527.000000</td>\n",
       "      <td>110527.000000</td>\n",
       "      <td>110527.000000</td>\n",
       "      <td>110527.000000</td>\n",
       "      <td>110527.000000</td>\n",
       "    </tr>\n",
       "    <tr>\n",
       "      <th>mean</th>\n",
       "      <td>37.088874</td>\n",
       "      <td>0.098266</td>\n",
       "      <td>0.197246</td>\n",
       "      <td>0.071865</td>\n",
       "      <td>0.030400</td>\n",
       "      <td>0.022248</td>\n",
       "      <td>0.321026</td>\n",
       "      <td>0.798067</td>\n",
       "    </tr>\n",
       "    <tr>\n",
       "      <th>std</th>\n",
       "      <td>23.110205</td>\n",
       "      <td>0.297675</td>\n",
       "      <td>0.397921</td>\n",
       "      <td>0.258265</td>\n",
       "      <td>0.171686</td>\n",
       "      <td>0.161543</td>\n",
       "      <td>0.466873</td>\n",
       "      <td>0.401444</td>\n",
       "    </tr>\n",
       "    <tr>\n",
       "      <th>min</th>\n",
       "      <td>-1.000000</td>\n",
       "      <td>0.000000</td>\n",
       "      <td>0.000000</td>\n",
       "      <td>0.000000</td>\n",
       "      <td>0.000000</td>\n",
       "      <td>0.000000</td>\n",
       "      <td>0.000000</td>\n",
       "      <td>0.000000</td>\n",
       "    </tr>\n",
       "    <tr>\n",
       "      <th>25%</th>\n",
       "      <td>18.000000</td>\n",
       "      <td>0.000000</td>\n",
       "      <td>0.000000</td>\n",
       "      <td>0.000000</td>\n",
       "      <td>0.000000</td>\n",
       "      <td>0.000000</td>\n",
       "      <td>0.000000</td>\n",
       "      <td>1.000000</td>\n",
       "    </tr>\n",
       "    <tr>\n",
       "      <th>50%</th>\n",
       "      <td>37.000000</td>\n",
       "      <td>0.000000</td>\n",
       "      <td>0.000000</td>\n",
       "      <td>0.000000</td>\n",
       "      <td>0.000000</td>\n",
       "      <td>0.000000</td>\n",
       "      <td>0.000000</td>\n",
       "      <td>1.000000</td>\n",
       "    </tr>\n",
       "    <tr>\n",
       "      <th>75%</th>\n",
       "      <td>55.000000</td>\n",
       "      <td>0.000000</td>\n",
       "      <td>0.000000</td>\n",
       "      <td>0.000000</td>\n",
       "      <td>0.000000</td>\n",
       "      <td>0.000000</td>\n",
       "      <td>1.000000</td>\n",
       "      <td>1.000000</td>\n",
       "    </tr>\n",
       "    <tr>\n",
       "      <th>max</th>\n",
       "      <td>115.000000</td>\n",
       "      <td>1.000000</td>\n",
       "      <td>1.000000</td>\n",
       "      <td>1.000000</td>\n",
       "      <td>1.000000</td>\n",
       "      <td>4.000000</td>\n",
       "      <td>1.000000</td>\n",
       "      <td>1.000000</td>\n",
       "    </tr>\n",
       "  </tbody>\n",
       "</table>\n",
       "</div>"
      ],
      "text/plain": [
       "                 Age    Scholarship   Hipertension       Diabetes  \\\n",
       "count  110527.000000  110527.000000  110527.000000  110527.000000   \n",
       "mean       37.088874       0.098266       0.197246       0.071865   \n",
       "std        23.110205       0.297675       0.397921       0.258265   \n",
       "min        -1.000000       0.000000       0.000000       0.000000   \n",
       "25%        18.000000       0.000000       0.000000       0.000000   \n",
       "50%        37.000000       0.000000       0.000000       0.000000   \n",
       "75%        55.000000       0.000000       0.000000       0.000000   \n",
       "max       115.000000       1.000000       1.000000       1.000000   \n",
       "\n",
       "          Alcoholism        Handcap   SMS_received        No-show  \n",
       "count  110527.000000  110527.000000  110527.000000  110527.000000  \n",
       "mean        0.030400       0.022248       0.321026       0.798067  \n",
       "std         0.171686       0.161543       0.466873       0.401444  \n",
       "min         0.000000       0.000000       0.000000       0.000000  \n",
       "25%         0.000000       0.000000       0.000000       1.000000  \n",
       "50%         0.000000       0.000000       0.000000       1.000000  \n",
       "75%         0.000000       0.000000       1.000000       1.000000  \n",
       "max         1.000000       4.000000       1.000000       1.000000  "
      ]
     },
     "execution_count": 27,
     "metadata": {},
     "output_type": "execute_result"
    }
   ],
   "source": [
    "df.describe()"
   ]
  },
  {
   "cell_type": "markdown",
   "id": "7e7a34e6",
   "metadata": {},
   "source": [
    ">- After looking at the data and determining the age, we notice that there are negative ages, so we must delete the negative columns"
   ]
  },
  {
   "cell_type": "code",
   "execution_count": 28,
   "id": "d6049e3e",
   "metadata": {},
   "outputs": [
    {
     "data": {
      "text/html": [
       "<div>\n",
       "<style scoped>\n",
       "    .dataframe tbody tr th:only-of-type {\n",
       "        vertical-align: middle;\n",
       "    }\n",
       "\n",
       "    .dataframe tbody tr th {\n",
       "        vertical-align: top;\n",
       "    }\n",
       "\n",
       "    .dataframe thead th {\n",
       "        text-align: right;\n",
       "    }\n",
       "</style>\n",
       "<table border=\"1\" class=\"dataframe\">\n",
       "  <thead>\n",
       "    <tr style=\"text-align: right;\">\n",
       "      <th></th>\n",
       "      <th>PatientId</th>\n",
       "      <th>AppointmentID</th>\n",
       "      <th>Gender</th>\n",
       "      <th>ScheduledDay</th>\n",
       "      <th>AppointmentDay</th>\n",
       "      <th>Age</th>\n",
       "      <th>Neighbourhood</th>\n",
       "      <th>Scholarship</th>\n",
       "      <th>Hipertension</th>\n",
       "      <th>Diabetes</th>\n",
       "      <th>Alcoholism</th>\n",
       "      <th>Handcap</th>\n",
       "      <th>SMS_received</th>\n",
       "      <th>No-show</th>\n",
       "    </tr>\n",
       "  </thead>\n",
       "  <tbody>\n",
       "    <tr>\n",
       "      <th>99832</th>\n",
       "      <td>465943158731293.0</td>\n",
       "      <td>5775010</td>\n",
       "      <td>F</td>\n",
       "      <td>2016-06-06 08:58:13+00:00</td>\n",
       "      <td>2016-06-06 00:00:00+00:00</td>\n",
       "      <td>-1</td>\n",
       "      <td>ROMÃO</td>\n",
       "      <td>0</td>\n",
       "      <td>0</td>\n",
       "      <td>0</td>\n",
       "      <td>0</td>\n",
       "      <td>0</td>\n",
       "      <td>0</td>\n",
       "      <td>1</td>\n",
       "    </tr>\n",
       "  </tbody>\n",
       "</table>\n",
       "</div>"
      ],
      "text/plain": [
       "               PatientId AppointmentID Gender              ScheduledDay  \\\n",
       "99832  465943158731293.0       5775010      F 2016-06-06 08:58:13+00:00   \n",
       "\n",
       "                 AppointmentDay  Age Neighbourhood  Scholarship  Hipertension  \\\n",
       "99832 2016-06-06 00:00:00+00:00   -1         ROMÃO            0             0   \n",
       "\n",
       "       Diabetes  Alcoholism  Handcap  SMS_received  No-show  \n",
       "99832         0           0        0             0        1  "
      ]
     },
     "execution_count": 28,
     "metadata": {},
     "output_type": "execute_result"
    }
   ],
   "source": [
    "df[df['Age'] < 0] #show colmn with this problem"
   ]
  },
  {
   "cell_type": "code",
   "execution_count": 29,
   "id": "54b54811",
   "metadata": {},
   "outputs": [],
   "source": [
    "df = df.drop([99832]) #Clear negative values"
   ]
  },
  {
   "cell_type": "code",
   "execution_count": 30,
   "id": "7f84f630",
   "metadata": {},
   "outputs": [
    {
     "data": {
      "text/plain": [
       "0"
      ]
     },
     "execution_count": 30,
     "metadata": {},
     "output_type": "execute_result"
    }
   ],
   "source": [
    "df['Age'].min() #done successfully"
   ]
  },
  {
   "cell_type": "markdown",
   "id": "7bea4d66",
   "metadata": {},
   "source": [
    "# Question 1\n",
    "What is the percentage of patients who show up on their appointements vs. who don't?"
   ]
  },
  {
   "cell_type": "code",
   "execution_count": 31,
   "id": "0f1d67fe",
   "metadata": {},
   "outputs": [],
   "source": [
    "num_no_show = df[df[\"No-show\"]==1].count()[\"No-show\"] #The number of patients who came on time"
   ]
  },
  {
   "cell_type": "code",
   "execution_count": 32,
   "id": "1637b8ad",
   "metadata": {},
   "outputs": [],
   "source": [
    "num_no_show2 = df[df['No-show'] == 0].count()['No-show'] #The number of patients who did not arrive on time"
   ]
  },
  {
   "cell_type": "code",
   "execution_count": 33,
   "id": "e8f8ba6f",
   "metadata": {},
   "outputs": [
    {
     "name": "stdout",
     "output_type": "stream",
     "text": [
      "88207 22319\n"
     ]
    }
   ],
   "source": [
    "print(num_no_show , num_no_show2)"
   ]
  },
  {
   "cell_type": "code",
   "execution_count": 34,
   "id": "934a0585",
   "metadata": {},
   "outputs": [
    {
     "data": {
      "text/plain": [
       "<function matplotlib.pyplot.show(close=None, block=None)>"
      ]
     },
     "execution_count": 34,
     "metadata": {},
     "output_type": "execute_result"
    },
    {
     "data": {
      "image/png": "[encoded data removed]",
      "text/plain": [
       "<Figure size 432x288 with 1 Axes>"
      ]
     },
     "metadata": {},
     "output_type": "display_data"
    }
   ],
   "source": [
    "data = [num_no_show,num_no_show2]\n",
    "label1 = ['They came on their date','They did not arrive on time']\n",
    "\n",
    "plt.style.use('fivethirtyeight')\n",
    "plt.axis('equal') #It helps to equalize the circular dimensions\n",
    "plt.pie(data,labels=label1,radius=1.4,shadow=True,explode=(0,0.3),autopct='%1.1f%%',startangle=180,textprops = {\"fontsize\":15})\n",
    "plt.title('Percentage of patients who came and did not come',y=1.2)\n",
    "plt.show"
   ]
  },
  {
   "cell_type": "markdown",
   "id": "593bcfda",
   "metadata": {},
   "source": [
    "##### Answer:\n",
    "\n",
    ">- We will notice the farthest shapes from some of this beautiful shapes using \"explode\"\n",
    "\n",
    ">- We will also notice that you choose to have one decimal number appear after the whole number\n",
    "\n",
    ">- The proportion of patients who came to their appointment is 79.8%\n",
    "\n",
    ">- Percentage of patients who did not attend their appointment 20.2%\n"
   ]
  },
  {
   "cell_type": "markdown",
   "id": "0cd6d6bb",
   "metadata": {},
   "source": [
    "# Question 2\n",
    ">- Do certain gender has more commitment to medical schedules than the other one?"
   ]
  },
  {
   "cell_type": "code",
   "execution_count": 35,
   "id": "fa139651",
   "metadata": {},
   "outputs": [],
   "source": [
    "x = df.groupby(['Gender','No-show']).count()"
   ]
  },
  {
   "cell_type": "code",
   "execution_count": 36,
   "id": "87f25a5f",
   "metadata": {},
   "outputs": [
    {
     "data": {
      "text/html": [
       "<div>\n",
       "<style scoped>\n",
       "    .dataframe tbody tr th:only-of-type {\n",
       "        vertical-align: middle;\n",
       "    }\n",
       "\n",
       "    .dataframe tbody tr th {\n",
       "        vertical-align: top;\n",
       "    }\n",
       "\n",
       "    .dataframe thead th {\n",
       "        text-align: right;\n",
       "    }\n",
       "</style>\n",
       "<table border=\"1\" class=\"dataframe\">\n",
       "  <thead>\n",
       "    <tr style=\"text-align: right;\">\n",
       "      <th></th>\n",
       "      <th></th>\n",
       "      <th>PatientId</th>\n",
       "      <th>AppointmentID</th>\n",
       "      <th>ScheduledDay</th>\n",
       "      <th>AppointmentDay</th>\n",
       "      <th>Age</th>\n",
       "      <th>Neighbourhood</th>\n",
       "      <th>Scholarship</th>\n",
       "      <th>Hipertension</th>\n",
       "      <th>Diabetes</th>\n",
       "      <th>Alcoholism</th>\n",
       "      <th>Handcap</th>\n",
       "      <th>SMS_received</th>\n",
       "    </tr>\n",
       "    <tr>\n",
       "      <th>Gender</th>\n",
       "      <th>No-show</th>\n",
       "      <th></th>\n",
       "      <th></th>\n",
       "      <th></th>\n",
       "      <th></th>\n",
       "      <th></th>\n",
       "      <th></th>\n",
       "      <th></th>\n",
       "      <th></th>\n",
       "      <th></th>\n",
       "      <th></th>\n",
       "      <th></th>\n",
       "      <th></th>\n",
       "    </tr>\n",
       "  </thead>\n",
       "  <tbody>\n",
       "    <tr>\n",
       "      <th rowspan=\"2\" valign=\"top\">F</th>\n",
       "      <th>0</th>\n",
       "      <td>14594</td>\n",
       "      <td>14594</td>\n",
       "      <td>14594</td>\n",
       "      <td>14594</td>\n",
       "      <td>14594</td>\n",
       "      <td>14594</td>\n",
       "      <td>14594</td>\n",
       "      <td>14594</td>\n",
       "      <td>14594</td>\n",
       "      <td>14594</td>\n",
       "      <td>14594</td>\n",
       "      <td>14594</td>\n",
       "    </tr>\n",
       "    <tr>\n",
       "      <th>1</th>\n",
       "      <td>57245</td>\n",
       "      <td>57245</td>\n",
       "      <td>57245</td>\n",
       "      <td>57245</td>\n",
       "      <td>57245</td>\n",
       "      <td>57245</td>\n",
       "      <td>57245</td>\n",
       "      <td>57245</td>\n",
       "      <td>57245</td>\n",
       "      <td>57245</td>\n",
       "      <td>57245</td>\n",
       "      <td>57245</td>\n",
       "    </tr>\n",
       "    <tr>\n",
       "      <th rowspan=\"2\" valign=\"top\">M</th>\n",
       "      <th>0</th>\n",
       "      <td>7725</td>\n",
       "      <td>7725</td>\n",
       "      <td>7725</td>\n",
       "      <td>7725</td>\n",
       "      <td>7725</td>\n",
       "      <td>7725</td>\n",
       "      <td>7725</td>\n",
       "      <td>7725</td>\n",
       "      <td>7725</td>\n",
       "      <td>7725</td>\n",
       "      <td>7725</td>\n",
       "      <td>7725</td>\n",
       "    </tr>\n",
       "    <tr>\n",
       "      <th>1</th>\n",
       "      <td>30962</td>\n",
       "      <td>30962</td>\n",
       "      <td>30962</td>\n",
       "      <td>30962</td>\n",
       "      <td>30962</td>\n",
       "      <td>30962</td>\n",
       "      <td>30962</td>\n",
       "      <td>30962</td>\n",
       "      <td>30962</td>\n",
       "      <td>30962</td>\n",
       "      <td>30962</td>\n",
       "      <td>30962</td>\n",
       "    </tr>\n",
       "  </tbody>\n",
       "</table>\n",
       "</div>"
      ],
      "text/plain": [
       "                PatientId  AppointmentID  ScheduledDay  AppointmentDay    Age  \\\n",
       "Gender No-show                                                                  \n",
       "F      0            14594          14594         14594           14594  14594   \n",
       "       1            57245          57245         57245           57245  57245   \n",
       "M      0             7725           7725          7725            7725   7725   \n",
       "       1            30962          30962         30962           30962  30962   \n",
       "\n",
       "                Neighbourhood  Scholarship  Hipertension  Diabetes  \\\n",
       "Gender No-show                                                       \n",
       "F      0                14594        14594         14594     14594   \n",
       "       1                57245        57245         57245     57245   \n",
       "M      0                 7725         7725          7725      7725   \n",
       "       1                30962        30962         30962     30962   \n",
       "\n",
       "                Alcoholism  Handcap  SMS_received  \n",
       "Gender No-show                                     \n",
       "F      0             14594    14594         14594  \n",
       "       1             57245    57245         57245  \n",
       "M      0              7725     7725          7725  \n",
       "       1             30962    30962         30962  "
      ]
     },
     "execution_count": 36,
     "metadata": {},
     "output_type": "execute_result"
    }
   ],
   "source": [
    "#It was successfully completed for all the values, but I want to know the number of patients who attended and the number of patients who did not have green\n",
    "x.head()"
   ]
  },
  {
   "cell_type": "code",
   "execution_count": 37,
   "id": "6bf55bc7",
   "metadata": {},
   "outputs": [
    {
     "data": {
      "text/plain": [
       "Text(0, 0.5, 'count of patients')"
      ]
     },
     "execution_count": 37,
     "metadata": {},
     "output_type": "execute_result"
    },
    {
     "data": {
      "image/png": "[encoded data removed]",
      "text/plain": [
       "<Figure size 432x288 with 1 Axes>"
      ]
     },
     "metadata": {},
     "output_type": "display_data"
    }
   ],
   "source": [
    "x[\"PatientId\"].unstack().plot(kind='bar',stacked=False,grid=True)\n",
    "plt.legend([\"didn't show up on time\",'show up on time']) #Clarify the features of the drawing\n",
    "plt.suptitle('Number of attendees and non-attendances vs. gender') #a title to paint it\n",
    "plt.ylabel('count of patients') #Add an address to the y axis"
   ]
  },
  {
   "cell_type": "markdown",
   "id": "ec894986",
   "metadata": {},
   "source": [
    "##### Outcomes:\n",
    "\n",
    ">- We note in the drawing that the attendance rate is high in terms of men and women, especially women more\n",
    "\n",
    ">- We need to know the comparison between the number of patients and the percentage of attendance or non-attendance"
   ]
  },
  {
   "cell_type": "code",
   "execution_count": 38,
   "id": "8f7ce3c3",
   "metadata": {},
   "outputs": [],
   "source": [
    "df_male = df[df['Gender'] == 'M'] #Male data separated from gender\n",
    "df_m_count = df_male['PatientId'].count() #Calculate the number of male data"
   ]
  },
  {
   "cell_type": "code",
   "execution_count": 39,
   "id": "73beb298",
   "metadata": {},
   "outputs": [],
   "source": [
    "male_No_show = df_male[df_male['No-show'] == 1] ##new dataframe holds male who showed up only."
   ]
  },
  {
   "cell_type": "code",
   "execution_count": 40,
   "id": "e218b614",
   "metadata": {},
   "outputs": [],
   "source": [
    "count_m_df = male_No_show['No-show'].sum() #count of males who No-show"
   ]
  },
  {
   "cell_type": "code",
   "execution_count": 41,
   "id": "8735da10",
   "metadata": {},
   "outputs": [
    {
     "name": "stdout",
     "output_type": "stream",
     "text": [
      "Percentage of Males who show up on their appointments is around 80.03 of all male patients.\n"
     ]
    }
   ],
   "source": [
    "#calculate percentage of males who attend their appointments among all males in the data\n",
    "male_data = count_m_df / df_m_count * 100\n",
    "print(f'Percentage of Males who show up on their appointments is around {male_data:.2f} of all male patients.')"
   ]
  },
  {
   "cell_type": "markdown",
   "id": "cf71345b",
   "metadata": {},
   "source": [
    "Now Let's Repeat same steps with females."
   ]
  },
  {
   "cell_type": "code",
   "execution_count": 42,
   "id": "f21bf495",
   "metadata": {},
   "outputs": [],
   "source": [
    "df_females = df[df['Gender'] == 'F']\n",
    "df_f_count = df_females['PatientId'].count()"
   ]
  },
  {
   "cell_type": "code",
   "execution_count": 43,
   "id": "9c760d54",
   "metadata": {},
   "outputs": [],
   "source": [
    "females_No_show = df_females[df_females['No-show'] == 1]"
   ]
  },
  {
   "cell_type": "code",
   "execution_count": 44,
   "id": "5ae2e164",
   "metadata": {},
   "outputs": [],
   "source": [
    "count_f_df = females_No_show['No-show'].sum()"
   ]
  },
  {
   "cell_type": "code",
   "execution_count": 45,
   "id": "f3f75279",
   "metadata": {},
   "outputs": [
    {
     "data": {
      "text/plain": [
       "57245"
      ]
     },
     "execution_count": 45,
     "metadata": {},
     "output_type": "execute_result"
    }
   ],
   "source": [
    "count_f_df"
   ]
  },
  {
   "cell_type": "code",
   "execution_count": 46,
   "id": "ca31261d",
   "metadata": {},
   "outputs": [
    {
     "name": "stdout",
     "output_type": "stream",
     "text": [
      "Percentage of females who show up on their appointments is around 79.69 of all female patients.\n"
     ]
    }
   ],
   "source": [
    "females_data = count_f_df / df_f_count * 100\n",
    "print(f'Percentage of females who show up on their appointments is around {females_data:.2f} of all female patients.')"
   ]
  },
  {
   "cell_type": "markdown",
   "id": "88183c54",
   "metadata": {},
   "source": [
    "#We note that the attendance rate between the sexes is very similar"
   ]
  },
  {
   "cell_type": "markdown",
   "id": "39feaad8",
   "metadata": {},
   "source": [
    "# Question 3\n",
    ">- Is the duration between registration and appointment affect the ability to show up "
   ]
  },
  {
   "cell_type": "markdown",
   "id": "c948b334",
   "metadata": {},
   "source": [
    "To answer this question, you will create a new column with the value of the difference between regestiration and appointment"
   ]
  },
  {
   "cell_type": "code",
   "execution_count": 47,
   "id": "58d04ec3",
   "metadata": {},
   "outputs": [],
   "source": [
    "df['time_duration'] = (df.AppointmentDay.dt.date) - (df.ScheduledDay.dt.date) #.dt.date to differ only date part"
   ]
  },
  {
   "cell_type": "code",
   "execution_count": 48,
   "id": "0a121f35",
   "metadata": {},
   "outputs": [],
   "source": [
    "df['time_duration'] = df.time_duration.dt.days #to convert column to numerical column contain number of days"
   ]
  },
  {
   "cell_type": "code",
   "execution_count": 49,
   "id": "cb68f007",
   "metadata": {},
   "outputs": [
    {
     "data": {
      "text/html": [
       "<div>\n",
       "<style scoped>\n",
       "    .dataframe tbody tr th:only-of-type {\n",
       "        vertical-align: middle;\n",
       "    }\n",
       "\n",
       "    .dataframe tbody tr th {\n",
       "        vertical-align: top;\n",
       "    }\n",
       "\n",
       "    .dataframe thead th {\n",
       "        text-align: right;\n",
       "    }\n",
       "</style>\n",
       "<table border=\"1\" class=\"dataframe\">\n",
       "  <thead>\n",
       "    <tr style=\"text-align: right;\">\n",
       "      <th></th>\n",
       "      <th>PatientId</th>\n",
       "      <th>AppointmentID</th>\n",
       "      <th>Gender</th>\n",
       "      <th>ScheduledDay</th>\n",
       "      <th>AppointmentDay</th>\n",
       "      <th>Age</th>\n",
       "      <th>Neighbourhood</th>\n",
       "      <th>Scholarship</th>\n",
       "      <th>Hipertension</th>\n",
       "      <th>Diabetes</th>\n",
       "      <th>Alcoholism</th>\n",
       "      <th>Handcap</th>\n",
       "      <th>SMS_received</th>\n",
       "      <th>No-show</th>\n",
       "      <th>time_duration</th>\n",
       "    </tr>\n",
       "  </thead>\n",
       "  <tbody>\n",
       "    <tr>\n",
       "      <th>110522</th>\n",
       "      <td>2572134369293.0</td>\n",
       "      <td>5651768</td>\n",
       "      <td>F</td>\n",
       "      <td>2016-05-03 09:15:35+00:00</td>\n",
       "      <td>2016-06-07 00:00:00+00:00</td>\n",
       "      <td>56</td>\n",
       "      <td>MARIA ORTIZ</td>\n",
       "      <td>0</td>\n",
       "      <td>0</td>\n",
       "      <td>0</td>\n",
       "      <td>0</td>\n",
       "      <td>0</td>\n",
       "      <td>1</td>\n",
       "      <td>1</td>\n",
       "      <td>35</td>\n",
       "    </tr>\n",
       "    <tr>\n",
       "      <th>110523</th>\n",
       "      <td>3596266328735.0</td>\n",
       "      <td>5650093</td>\n",
       "      <td>F</td>\n",
       "      <td>2016-05-03 07:27:33+00:00</td>\n",
       "      <td>2016-06-07 00:00:00+00:00</td>\n",
       "      <td>51</td>\n",
       "      <td>MARIA ORTIZ</td>\n",
       "      <td>0</td>\n",
       "      <td>0</td>\n",
       "      <td>0</td>\n",
       "      <td>0</td>\n",
       "      <td>0</td>\n",
       "      <td>1</td>\n",
       "      <td>1</td>\n",
       "      <td>35</td>\n",
       "    </tr>\n",
       "    <tr>\n",
       "      <th>110524</th>\n",
       "      <td>15576631729893.0</td>\n",
       "      <td>5630692</td>\n",
       "      <td>F</td>\n",
       "      <td>2016-04-27 16:03:52+00:00</td>\n",
       "      <td>2016-06-07 00:00:00+00:00</td>\n",
       "      <td>21</td>\n",
       "      <td>MARIA ORTIZ</td>\n",
       "      <td>0</td>\n",
       "      <td>0</td>\n",
       "      <td>0</td>\n",
       "      <td>0</td>\n",
       "      <td>0</td>\n",
       "      <td>1</td>\n",
       "      <td>1</td>\n",
       "      <td>41</td>\n",
       "    </tr>\n",
       "    <tr>\n",
       "      <th>110525</th>\n",
       "      <td>92134931435557.0</td>\n",
       "      <td>5630323</td>\n",
       "      <td>F</td>\n",
       "      <td>2016-04-27 15:09:23+00:00</td>\n",
       "      <td>2016-06-07 00:00:00+00:00</td>\n",
       "      <td>38</td>\n",
       "      <td>MARIA ORTIZ</td>\n",
       "      <td>0</td>\n",
       "      <td>0</td>\n",
       "      <td>0</td>\n",
       "      <td>0</td>\n",
       "      <td>0</td>\n",
       "      <td>1</td>\n",
       "      <td>1</td>\n",
       "      <td>41</td>\n",
       "    </tr>\n",
       "    <tr>\n",
       "      <th>110526</th>\n",
       "      <td>377511518121127.0</td>\n",
       "      <td>5629448</td>\n",
       "      <td>F</td>\n",
       "      <td>2016-04-27 13:30:56+00:00</td>\n",
       "      <td>2016-06-07 00:00:00+00:00</td>\n",
       "      <td>54</td>\n",
       "      <td>MARIA ORTIZ</td>\n",
       "      <td>0</td>\n",
       "      <td>0</td>\n",
       "      <td>0</td>\n",
       "      <td>0</td>\n",
       "      <td>0</td>\n",
       "      <td>1</td>\n",
       "      <td>1</td>\n",
       "      <td>41</td>\n",
       "    </tr>\n",
       "  </tbody>\n",
       "</table>\n",
       "</div>"
      ],
      "text/plain": [
       "                PatientId AppointmentID Gender              ScheduledDay  \\\n",
       "110522    2572134369293.0       5651768      F 2016-05-03 09:15:35+00:00   \n",
       "110523    3596266328735.0       5650093      F 2016-05-03 07:27:33+00:00   \n",
       "110524   15576631729893.0       5630692      F 2016-04-27 16:03:52+00:00   \n",
       "110525   92134931435557.0       5630323      F 2016-04-27 15:09:23+00:00   \n",
       "110526  377511518121127.0       5629448      F 2016-04-27 13:30:56+00:00   \n",
       "\n",
       "                  AppointmentDay  Age Neighbourhood  Scholarship  \\\n",
       "110522 2016-06-07 00:00:00+00:00   56   MARIA ORTIZ            0   \n",
       "110523 2016-06-07 00:00:00+00:00   51   MARIA ORTIZ            0   \n",
       "110524 2016-06-07 00:00:00+00:00   21   MARIA ORTIZ            0   \n",
       "110525 2016-06-07 00:00:00+00:00   38   MARIA ORTIZ            0   \n",
       "110526 2016-06-07 00:00:00+00:00   54   MARIA ORTIZ            0   \n",
       "\n",
       "        Hipertension  Diabetes  Alcoholism  Handcap  SMS_received  No-show  \\\n",
       "110522             0         0           0        0             1        1   \n",
       "110523             0         0           0        0             1        1   \n",
       "110524             0         0           0        0             1        1   \n",
       "110525             0         0           0        0             1        1   \n",
       "110526             0         0           0        0             1        1   \n",
       "\n",
       "        time_duration  \n",
       "110522             35  \n",
       "110523             35  \n",
       "110524             41  \n",
       "110525             41  \n",
       "110526             41  "
      ]
     },
     "execution_count": 49,
     "metadata": {},
     "output_type": "execute_result"
    }
   ],
   "source": [
    "df.tail() #Show new column"
   ]
  },
  {
   "cell_type": "code",
   "execution_count": 50,
   "id": "c466abc8",
   "metadata": {},
   "outputs": [
    {
     "data": {
      "image/png": "[encoded data removed]",
      "text/plain": [
       "<Figure size 432x288 with 1 Axes>"
      ]
     },
     "metadata": {},
     "output_type": "display_data"
    }
   ],
   "source": [
    "x = df.groupby(['No-show'])['time_duration'].mean()\n",
    "x.plot(kind='pie',startangle=180,labels=[\"didn't attend\",\"attend\"],explode=[0,0.1],autopct='%1.1f%%',shadow=True,\n",
    "       textprops={'fontsize':15})\n",
    "plt.suptitle('Percentage of average days late versus those who attended and did not attend')\n",
    "plt.ylabel(None)\n",
    "plt.text(-2,-1.3,\"Patients Who didn't show up have an average of 15 days between registeration day and their appointments.\\nPatients Who show up have an average of 8 days between registeration day and their appointments.\")\n",
    "plt.axis('equal')\n",
    "plt.show();"
   ]
  },
  {
   "cell_type": "markdown",
   "id": "6467be7b",
   "metadata": {},
   "source": [
    "#### Answer:\n",
    ">- Patients Who didn't show up have an average of 15 days between registeration day and their appointments.\n",
    ">- Patients Who show up have an average of 8 days between registeration day and their appointments.\n",
    "\n",
    ">- As Duration increases, the ability of patients to show up on their appointments decreases."
   ]
  },
  {
   "cell_type": "markdown",
   "id": "0ea60c6b",
   "metadata": {},
   "source": [
    "# Question 4 \n",
    ">- Where is the most appointments take place"
   ]
  },
  {
   "cell_type": "code",
   "execution_count": 51,
   "id": "630e1bf8",
   "metadata": {},
   "outputs": [
    {
     "name": "stderr",
     "output_type": "stream",
     "text": [
      "<ipython-input-51-7150bae0ffd8>:1: FutureWarning: Treating datetime data as categorical rather than numeric in `.describe` is deprecated and will be removed in a future version of pandas. Specify `datetime_is_numeric=True` to silence this warning and adopt the future behavior now.\n",
      "  df.describe(include=\"all\")\n",
      "<ipython-input-51-7150bae0ffd8>:1: FutureWarning: Treating datetime data as categorical rather than numeric in `.describe` is deprecated and will be removed in a future version of pandas. Specify `datetime_is_numeric=True` to silence this warning and adopt the future behavior now.\n",
      "  df.describe(include=\"all\")\n"
     ]
    },
    {
     "data": {
      "text/html": [
       "<div>\n",
       "<style scoped>\n",
       "    .dataframe tbody tr th:only-of-type {\n",
       "        vertical-align: middle;\n",
       "    }\n",
       "\n",
       "    .dataframe tbody tr th {\n",
       "        vertical-align: top;\n",
       "    }\n",
       "\n",
       "    .dataframe thead th {\n",
       "        text-align: right;\n",
       "    }\n",
       "</style>\n",
       "<table border=\"1\" class=\"dataframe\">\n",
       "  <thead>\n",
       "    <tr style=\"text-align: right;\">\n",
       "      <th></th>\n",
       "      <th>PatientId</th>\n",
       "      <th>AppointmentID</th>\n",
       "      <th>Gender</th>\n",
       "      <th>ScheduledDay</th>\n",
       "      <th>AppointmentDay</th>\n",
       "      <th>Age</th>\n",
       "      <th>Neighbourhood</th>\n",
       "      <th>Scholarship</th>\n",
       "      <th>Hipertension</th>\n",
       "      <th>Diabetes</th>\n",
       "      <th>Alcoholism</th>\n",
       "      <th>Handcap</th>\n",
       "      <th>SMS_received</th>\n",
       "      <th>No-show</th>\n",
       "      <th>time_duration</th>\n",
       "    </tr>\n",
       "  </thead>\n",
       "  <tbody>\n",
       "    <tr>\n",
       "      <th>count</th>\n",
       "      <td>110526</td>\n",
       "      <td>110526</td>\n",
       "      <td>110526</td>\n",
       "      <td>110526</td>\n",
       "      <td>110526</td>\n",
       "      <td>110526.000000</td>\n",
       "      <td>110526</td>\n",
       "      <td>110526.000000</td>\n",
       "      <td>110526.000000</td>\n",
       "      <td>110526.000000</td>\n",
       "      <td>110526.000000</td>\n",
       "      <td>110526.000000</td>\n",
       "      <td>110526.000000</td>\n",
       "      <td>110526.000000</td>\n",
       "      <td>110526.000000</td>\n",
       "    </tr>\n",
       "    <tr>\n",
       "      <th>unique</th>\n",
       "      <td>62298</td>\n",
       "      <td>110526</td>\n",
       "      <td>2</td>\n",
       "      <td>103548</td>\n",
       "      <td>27</td>\n",
       "      <td>NaN</td>\n",
       "      <td>81</td>\n",
       "      <td>NaN</td>\n",
       "      <td>NaN</td>\n",
       "      <td>NaN</td>\n",
       "      <td>NaN</td>\n",
       "      <td>NaN</td>\n",
       "      <td>NaN</td>\n",
       "      <td>NaN</td>\n",
       "      <td>NaN</td>\n",
       "    </tr>\n",
       "    <tr>\n",
       "      <th>top</th>\n",
       "      <td>822145925426128.0</td>\n",
       "      <td>5731445</td>\n",
       "      <td>F</td>\n",
       "      <td>2016-05-06 07:09:54+00:00</td>\n",
       "      <td>2016-06-06 00:00:00+00:00</td>\n",
       "      <td>NaN</td>\n",
       "      <td>JARDIM CAMBURI</td>\n",
       "      <td>NaN</td>\n",
       "      <td>NaN</td>\n",
       "      <td>NaN</td>\n",
       "      <td>NaN</td>\n",
       "      <td>NaN</td>\n",
       "      <td>NaN</td>\n",
       "      <td>NaN</td>\n",
       "      <td>NaN</td>\n",
       "    </tr>\n",
       "    <tr>\n",
       "      <th>freq</th>\n",
       "      <td>88</td>\n",
       "      <td>1</td>\n",
       "      <td>71839</td>\n",
       "      <td>24</td>\n",
       "      <td>4691</td>\n",
       "      <td>NaN</td>\n",
       "      <td>7717</td>\n",
       "      <td>NaN</td>\n",
       "      <td>NaN</td>\n",
       "      <td>NaN</td>\n",
       "      <td>NaN</td>\n",
       "      <td>NaN</td>\n",
       "      <td>NaN</td>\n",
       "      <td>NaN</td>\n",
       "      <td>NaN</td>\n",
       "    </tr>\n",
       "    <tr>\n",
       "      <th>first</th>\n",
       "      <td>NaN</td>\n",
       "      <td>NaN</td>\n",
       "      <td>NaN</td>\n",
       "      <td>2015-11-10 07:13:56+00:00</td>\n",
       "      <td>2016-04-29 00:00:00+00:00</td>\n",
       "      <td>NaN</td>\n",
       "      <td>NaN</td>\n",
       "      <td>NaN</td>\n",
       "      <td>NaN</td>\n",
       "      <td>NaN</td>\n",
       "      <td>NaN</td>\n",
       "      <td>NaN</td>\n",
       "      <td>NaN</td>\n",
       "      <td>NaN</td>\n",
       "      <td>NaN</td>\n",
       "    </tr>\n",
       "    <tr>\n",
       "      <th>last</th>\n",
       "      <td>NaN</td>\n",
       "      <td>NaN</td>\n",
       "      <td>NaN</td>\n",
       "      <td>2016-06-08 20:07:23+00:00</td>\n",
       "      <td>2016-06-08 00:00:00+00:00</td>\n",
       "      <td>NaN</td>\n",
       "      <td>NaN</td>\n",
       "      <td>NaN</td>\n",
       "      <td>NaN</td>\n",
       "      <td>NaN</td>\n",
       "      <td>NaN</td>\n",
       "      <td>NaN</td>\n",
       "      <td>NaN</td>\n",
       "      <td>NaN</td>\n",
       "      <td>NaN</td>\n",
       "    </tr>\n",
       "    <tr>\n",
       "      <th>mean</th>\n",
       "      <td>NaN</td>\n",
       "      <td>NaN</td>\n",
       "      <td>NaN</td>\n",
       "      <td>NaN</td>\n",
       "      <td>NaN</td>\n",
       "      <td>37.089219</td>\n",
       "      <td>NaN</td>\n",
       "      <td>0.098266</td>\n",
       "      <td>0.197248</td>\n",
       "      <td>0.071865</td>\n",
       "      <td>0.030400</td>\n",
       "      <td>0.022248</td>\n",
       "      <td>0.321029</td>\n",
       "      <td>0.798066</td>\n",
       "      <td>10.183794</td>\n",
       "    </tr>\n",
       "    <tr>\n",
       "      <th>std</th>\n",
       "      <td>NaN</td>\n",
       "      <td>NaN</td>\n",
       "      <td>NaN</td>\n",
       "      <td>NaN</td>\n",
       "      <td>NaN</td>\n",
       "      <td>23.110026</td>\n",
       "      <td>NaN</td>\n",
       "      <td>0.297676</td>\n",
       "      <td>0.397923</td>\n",
       "      <td>0.258266</td>\n",
       "      <td>0.171686</td>\n",
       "      <td>0.161543</td>\n",
       "      <td>0.466874</td>\n",
       "      <td>0.401445</td>\n",
       "      <td>15.255034</td>\n",
       "    </tr>\n",
       "    <tr>\n",
       "      <th>min</th>\n",
       "      <td>NaN</td>\n",
       "      <td>NaN</td>\n",
       "      <td>NaN</td>\n",
       "      <td>NaN</td>\n",
       "      <td>NaN</td>\n",
       "      <td>0.000000</td>\n",
       "      <td>NaN</td>\n",
       "      <td>0.000000</td>\n",
       "      <td>0.000000</td>\n",
       "      <td>0.000000</td>\n",
       "      <td>0.000000</td>\n",
       "      <td>0.000000</td>\n",
       "      <td>0.000000</td>\n",
       "      <td>0.000000</td>\n",
       "      <td>-6.000000</td>\n",
       "    </tr>\n",
       "    <tr>\n",
       "      <th>25%</th>\n",
       "      <td>NaN</td>\n",
       "      <td>NaN</td>\n",
       "      <td>NaN</td>\n",
       "      <td>NaN</td>\n",
       "      <td>NaN</td>\n",
       "      <td>18.000000</td>\n",
       "      <td>NaN</td>\n",
       "      <td>0.000000</td>\n",
       "      <td>0.000000</td>\n",
       "      <td>0.000000</td>\n",
       "      <td>0.000000</td>\n",
       "      <td>0.000000</td>\n",
       "      <td>0.000000</td>\n",
       "      <td>1.000000</td>\n",
       "      <td>0.000000</td>\n",
       "    </tr>\n",
       "    <tr>\n",
       "      <th>50%</th>\n",
       "      <td>NaN</td>\n",
       "      <td>NaN</td>\n",
       "      <td>NaN</td>\n",
       "      <td>NaN</td>\n",
       "      <td>NaN</td>\n",
       "      <td>37.000000</td>\n",
       "      <td>NaN</td>\n",
       "      <td>0.000000</td>\n",
       "      <td>0.000000</td>\n",
       "      <td>0.000000</td>\n",
       "      <td>0.000000</td>\n",
       "      <td>0.000000</td>\n",
       "      <td>0.000000</td>\n",
       "      <td>1.000000</td>\n",
       "      <td>4.000000</td>\n",
       "    </tr>\n",
       "    <tr>\n",
       "      <th>75%</th>\n",
       "      <td>NaN</td>\n",
       "      <td>NaN</td>\n",
       "      <td>NaN</td>\n",
       "      <td>NaN</td>\n",
       "      <td>NaN</td>\n",
       "      <td>55.000000</td>\n",
       "      <td>NaN</td>\n",
       "      <td>0.000000</td>\n",
       "      <td>0.000000</td>\n",
       "      <td>0.000000</td>\n",
       "      <td>0.000000</td>\n",
       "      <td>0.000000</td>\n",
       "      <td>1.000000</td>\n",
       "      <td>1.000000</td>\n",
       "      <td>15.000000</td>\n",
       "    </tr>\n",
       "    <tr>\n",
       "      <th>max</th>\n",
       "      <td>NaN</td>\n",
       "      <td>NaN</td>\n",
       "      <td>NaN</td>\n",
       "      <td>NaN</td>\n",
       "      <td>NaN</td>\n",
       "      <td>115.000000</td>\n",
       "      <td>NaN</td>\n",
       "      <td>1.000000</td>\n",
       "      <td>1.000000</td>\n",
       "      <td>1.000000</td>\n",
       "      <td>1.000000</td>\n",
       "      <td>4.000000</td>\n",
       "      <td>1.000000</td>\n",
       "      <td>1.000000</td>\n",
       "      <td>179.000000</td>\n",
       "    </tr>\n",
       "  </tbody>\n",
       "</table>\n",
       "</div>"
      ],
      "text/plain": [
       "                PatientId AppointmentID  Gender               ScheduledDay  \\\n",
       "count              110526        110526  110526                     110526   \n",
       "unique              62298        110526       2                     103548   \n",
       "top     822145925426128.0       5731445       F  2016-05-06 07:09:54+00:00   \n",
       "freq                   88             1   71839                         24   \n",
       "first                 NaN           NaN     NaN  2015-11-10 07:13:56+00:00   \n",
       "last                  NaN           NaN     NaN  2016-06-08 20:07:23+00:00   \n",
       "mean                  NaN           NaN     NaN                        NaN   \n",
       "std                   NaN           NaN     NaN                        NaN   \n",
       "min                   NaN           NaN     NaN                        NaN   \n",
       "25%                   NaN           NaN     NaN                        NaN   \n",
       "50%                   NaN           NaN     NaN                        NaN   \n",
       "75%                   NaN           NaN     NaN                        NaN   \n",
       "max                   NaN           NaN     NaN                        NaN   \n",
       "\n",
       "                   AppointmentDay            Age   Neighbourhood  \\\n",
       "count                      110526  110526.000000          110526   \n",
       "unique                         27            NaN              81   \n",
       "top     2016-06-06 00:00:00+00:00            NaN  JARDIM CAMBURI   \n",
       "freq                         4691            NaN            7717   \n",
       "first   2016-04-29 00:00:00+00:00            NaN             NaN   \n",
       "last    2016-06-08 00:00:00+00:00            NaN             NaN   \n",
       "mean                          NaN      37.089219             NaN   \n",
       "std                           NaN      23.110026             NaN   \n",
       "min                           NaN       0.000000             NaN   \n",
       "25%                           NaN      18.000000             NaN   \n",
       "50%                           NaN      37.000000             NaN   \n",
       "75%                           NaN      55.000000             NaN   \n",
       "max                           NaN     115.000000             NaN   \n",
       "\n",
       "          Scholarship   Hipertension       Diabetes     Alcoholism  \\\n",
       "count   110526.000000  110526.000000  110526.000000  110526.000000   \n",
       "unique            NaN            NaN            NaN            NaN   \n",
       "top               NaN            NaN            NaN            NaN   \n",
       "freq              NaN            NaN            NaN            NaN   \n",
       "first             NaN            NaN            NaN            NaN   \n",
       "last              NaN            NaN            NaN            NaN   \n",
       "mean         0.098266       0.197248       0.071865       0.030400   \n",
       "std          0.297676       0.397923       0.258266       0.171686   \n",
       "min          0.000000       0.000000       0.000000       0.000000   \n",
       "25%          0.000000       0.000000       0.000000       0.000000   \n",
       "50%          0.000000       0.000000       0.000000       0.000000   \n",
       "75%          0.000000       0.000000       0.000000       0.000000   \n",
       "max          1.000000       1.000000       1.000000       1.000000   \n",
       "\n",
       "              Handcap   SMS_received        No-show  time_duration  \n",
       "count   110526.000000  110526.000000  110526.000000  110526.000000  \n",
       "unique            NaN            NaN            NaN            NaN  \n",
       "top               NaN            NaN            NaN            NaN  \n",
       "freq              NaN            NaN            NaN            NaN  \n",
       "first             NaN            NaN            NaN            NaN  \n",
       "last              NaN            NaN            NaN            NaN  \n",
       "mean         0.022248       0.321029       0.798066      10.183794  \n",
       "std          0.161543       0.466874       0.401445      15.255034  \n",
       "min          0.000000       0.000000       0.000000      -6.000000  \n",
       "25%          0.000000       0.000000       1.000000       0.000000  \n",
       "50%          0.000000       0.000000       1.000000       4.000000  \n",
       "75%          0.000000       1.000000       1.000000      15.000000  \n",
       "max          4.000000       1.000000       1.000000     179.000000  "
      ]
     },
     "execution_count": 51,
     "metadata": {},
     "output_type": "execute_result"
    }
   ],
   "source": [
    "df.describe(include=\"all\")"
   ]
  },
  {
   "cell_type": "code",
   "execution_count": 52,
   "id": "d5553b89",
   "metadata": {},
   "outputs": [
    {
     "data": {
      "text/plain": [
       "<AxesSubplot:xlabel='Neighbourhood'>"
      ]
     },
     "execution_count": 52,
     "metadata": {},
     "output_type": "execute_result"
    },
    {
     "data": {
      "image/png": "[encoded data removed]",
      "text/plain": [
       "<Figure size 1008x1008 with 1 Axes>"
      ]
     },
     "metadata": {},
     "output_type": "display_data"
    }
   ],
   "source": [
    "df.groupby(['Neighbourhood'])['time_duration'].sum().plot(kind='bar',figsize=(14,14),fontsize=10)"
   ]
  },
  {
   "cell_type": "markdown",
   "id": "aea9689a",
   "metadata": {},
   "source": [
    "##### Answer:\n",
    ">- \"JARDIM CAMBURI\" is the most frequent place."
   ]
  },
  {
   "cell_type": "markdown",
   "id": "325a4704",
   "metadata": {},
   "source": [
    "# Question 5\n",
    "What are the ages of the medical table"
   ]
  },
  {
   "cell_type": "markdown",
   "id": "d6c3966e",
   "metadata": {},
   "source": [
    "We want to divide the ages of age to clarify :\n",
    ">below 18, 18-24, 25-34, 35-44, 45-54, 55-64, more than 65."
   ]
  },
  {
   "cell_type": "code",
   "execution_count": 53,
   "id": "ec9f088b",
   "metadata": {},
   "outputs": [],
   "source": [
    "def age(data,rows,s1,s2):\n",
    "    \"\"\"The state is responsible for dividing the ages in order to evaluate\n",
    "    itsflag as the best form. The function takes 4 values:\n",
    "    \n",
    "    ======================================================\n",
    "    input :\n",
    "    ======================================================\n",
    "    \n",
    "    data : It takes the original value that will be divided by it\n",
    "    rows : She takes the name of the column that will take a lifetime\n",
    "    s1 : the lower limit of the column.\n",
    "    s2 : the higher limit of the column\n",
    "    \n",
    "    ======================================================\n",
    "    output :\n",
    "    ======================================================\n",
    "    \n",
    "    a new dataframe with all columns in the original one but only the rows which meet the condition.\n",
    "\n",
    "    \"\"\"\n",
    "    if s2 < s1 :\n",
    "        s1 , s2 = s2 , s1\n",
    "        \n",
    "    return data.query(f\"{s1} <= {rows} <= {s2}\")"
   ]
  },
  {
   "cell_type": "code",
   "execution_count": 54,
   "id": "e3949215",
   "metadata": {},
   "outputs": [],
   "source": [
    "#get dataframes for each age category\n",
    "childs = df.query('Age < 18')\n",
    "age_18 = age(df,\"Age\",18,24)\n",
    "age_25 = age(df,'Age',25,34)\n",
    "age_35 = age(df,'Age',35,44)\n",
    "age_45 = age(df,'Age',45,54)\n",
    "age_55 = age(df,'Age',55,64)\n",
    "old = df.query('Age >= 65')"
   ]
  },
  {
   "cell_type": "code",
   "execution_count": 55,
   "id": "ef1976f6",
   "metadata": {},
   "outputs": [],
   "source": [
    "#calculate mean for each age category\n",
    "mean_childs = childs['No-show'].mean()\n",
    "mean_age_18 = age_18['No-show'].mean()\n",
    "mean_age_25 = age_25['No-show'].mean()\n",
    "mean_age_35 = age_35['No-show'].mean()\n",
    "mean_age_45 = age_45['No-show'].mean()\n",
    "mean_age_55 = age_55['No-show'].mean()\n",
    "mean_old = old['No-show'].mean()"
   ]
  },
  {
   "cell_type": "code",
   "execution_count": 56,
   "id": "40b9793e",
   "metadata": {},
   "outputs": [
    {
     "data": {
      "text/plain": [
       "Text(0, 0.5, 'Average \"No-show\"')"
      ]
     },
     "execution_count": 56,
     "metadata": {},
     "output_type": "execute_result"
    },
    {
     "data": {
      "image/png": "[encoded data removed]",
      "text/plain": [
       "<Figure size 432x288 with 1 Axes>"
      ]
     },
     "metadata": {},
     "output_type": "display_data"
    }
   ],
   "source": [
    "locations = [1,2,3,4,5,6,7]\n",
    "heights = [mean_childs,mean_age_18,mean_age_25,mean_age_35,mean_age_45,mean_age_55,mean_old]\n",
    "labels = ['Childs','18-24','25-34','35-44','45-54','55-64','Old']\n",
    "\n",
    "plt.bar(locations,heights,tick_label = labels)\n",
    "plt.title('Average \"No-show\" Vs Age Categories')\n",
    "plt.ylim([0.7,0.9]) #to focus on this spot to feel the change\n",
    "plt.xlabel('Age Category')\n",
    "plt.ylabel('Average \"No-show\"')"
   ]
  },
  {
   "cell_type": "markdown",
   "id": "3aebbfe6",
   "metadata": {},
   "source": [
    "Answer :\n",
    ">- older patients are more committed to their appointments' scheduled than younger ones."
   ]
  },
  {
   "cell_type": "markdown",
   "id": "b89eac87",
   "metadata": {},
   "source": [
    "# Question 6  \n",
    ">- Do patients who recieves SMS to remind them of the appointement more likely to show up"
   ]
  },
  {
   "cell_type": "code",
   "execution_count": 57,
   "id": "689066ad",
   "metadata": {},
   "outputs": [
    {
     "data": {
      "image/png": "[encoded data removed]",
      "text/plain": [
       "<Figure size 432x288 with 1 Axes>"
      ]
     },
     "metadata": {},
     "output_type": "display_data"
    }
   ],
   "source": [
    "df.groupby(['SMS_received'])['No-show'].mean().plot(kind='pie',startangle=180,labels=[\"didn't received sms\",\"SMS_received\"],\n",
    "                                                    explode=[0,0.1],autopct='%1.1f%%',shadow=True,textprops={'fontsize':15})\n",
    "plt.suptitle('Percentage of Average SMS Received VS No Show')\n",
    "plt.ylabel(None)\n",
    "plt.axis('equal')\n",
    "plt.show();"
   ]
  },
  {
   "cell_type": "markdown",
   "id": "737972c3",
   "metadata": {},
   "source": [
    "###### I thought that SMS would be effective.\n",
    ">- we should ivestigate more on age recieving the SMS and ivestigate duration too."
   ]
  },
  {
   "cell_type": "markdown",
   "id": "993fe08b",
   "metadata": {},
   "source": [
    "childs"
   ]
  },
  {
   "cell_type": "code",
   "execution_count": 58,
   "id": "c3397323",
   "metadata": {},
   "outputs": [
    {
     "name": "stdout",
     "output_type": "stream",
     "text": [
      "No-show percentage with SMS is 69.77, while 81.55  without SMS.\n"
     ]
    }
   ],
   "source": [
    "SMS_df = df.loc[(df['SMS_received'] == 1 ) & (df['Age']<18)]['No-show'].mean()\n",
    "SMS_No_df = df.loc[(df['SMS_received']== 0 ) & (df['Age'] <18)]['No-show'].mean()\n",
    "\n",
    "print(f'No-show percentage with SMS is {SMS_df*100:.2f}, while {SMS_No_df*100:.2f}  without SMS.')"
   ]
  },
  {
   "cell_type": "markdown",
   "id": "9eea8046",
   "metadata": {},
   "source": [
    "18-24"
   ]
  },
  {
   "cell_type": "code",
   "execution_count": 59,
   "id": "26c18d59",
   "metadata": {},
   "outputs": [
    {
     "name": "stdout",
     "output_type": "stream",
     "text": [
      "No-show percentage with SMS is 63.23, while 81.13  without SMS.\n"
     ]
    }
   ],
   "source": [
    "SMS_df = df.loc[(df['SMS_received'] == 1 ) & (df['Age']>=18) & (df['Age'] <= 24)]['No-show'].mean()\n",
    "SMS_No_df = df.loc[(df['SMS_received']== 0 ) & (df['Age'] >=18) & (df['Age'] <= 24)]['No-show'].mean()\n",
    "\n",
    "print(f'No-show percentage with SMS is {SMS_df*100:.2f}, while {SMS_No_df*100:.2f}  without SMS.')"
   ]
  },
  {
   "cell_type": "markdown",
   "id": "ce9f4b5c",
   "metadata": {},
   "source": [
    "25-34"
   ]
  },
  {
   "cell_type": "code",
   "execution_count": 60,
   "id": "d8f201b2",
   "metadata": {},
   "outputs": [
    {
     "name": "stdout",
     "output_type": "stream",
     "text": [
      "No-show percentage with SMS is 67.35, while 81.57  without SMS.\n"
     ]
    }
   ],
   "source": [
    "SMS_df = df.loc[(df['SMS_received'] == 1 ) & (df['Age']>=25) & (df['Age'] <= 34)]['No-show'].mean()\n",
    "SMS_No_df = df.loc[(df['SMS_received']== 0 ) & (df['Age'] >=25) & (df['Age'] <= 34)]['No-show'].mean()\n",
    "\n",
    "print(f'No-show percentage with SMS is {SMS_df*100:.2f}, while {SMS_No_df*100:.2f}  without SMS.')"
   ]
  },
  {
   "cell_type": "markdown",
   "id": "fcafcb70",
   "metadata": {},
   "source": [
    "35-44"
   ]
  },
  {
   "cell_type": "code",
   "execution_count": 61,
   "id": "8bd4c13d",
   "metadata": {},
   "outputs": [
    {
     "name": "stdout",
     "output_type": "stream",
     "text": [
      "No-show percentage with SMS is 69.80, while 82.88  without SMS.\n"
     ]
    }
   ],
   "source": [
    "SMS_df = df.loc[(df['SMS_received'] == 1 ) & (df['Age']>=35) & (df['Age'] <= 44)]['No-show'].mean()\n",
    "SMS_No_df = df.loc[(df['SMS_received']== 0 ) & (df['Age'] >=35) & (df['Age'] <= 44)]['No-show'].mean()\n",
    "\n",
    "print(f'No-show percentage with SMS is {SMS_df*100:.2f}, while {SMS_No_df*100:.2f}  without SMS.')"
   ]
  },
  {
   "cell_type": "markdown",
   "id": "d1b17f77",
   "metadata": {},
   "source": [
    "45-54"
   ]
  },
  {
   "cell_type": "code",
   "execution_count": 62,
   "id": "371fc0c6",
   "metadata": {},
   "outputs": [
    {
     "name": "stdout",
     "output_type": "stream",
     "text": [
      "No-show percentage with SMS is 76.31, while 84.35  without SMS.\n"
     ]
    }
   ],
   "source": [
    "SMS_df = df.loc[(df['SMS_received'] == 1 ) & (df['Age']>=45) & (df['Age'] <= 54)]['No-show'].mean()\n",
    "SMS_No_df = df.loc[(df['SMS_received']== 0 ) & (df['Age'] >=45) & (df['Age'] <= 54)]['No-show'].mean()\n",
    "\n",
    "print(f'No-show percentage with SMS is {SMS_df*100:.2f}, while {SMS_No_df*100:.2f}  without SMS.')"
   ]
  },
  {
   "cell_type": "markdown",
   "id": "45c6e89e",
   "metadata": {},
   "source": [
    "55-64"
   ]
  },
  {
   "cell_type": "code",
   "execution_count": 63,
   "id": "1c9da5c8",
   "metadata": {},
   "outputs": [
    {
     "name": "stdout",
     "output_type": "stream",
     "text": [
      "No-show percentage with SMS is 79.75, while 86.08  without SMS.\n"
     ]
    }
   ],
   "source": [
    "SMS_df = df.loc[(df['SMS_received'] == 1 ) & (df['Age']>=55) & (df['Age'] <= 64)]['No-show'].mean()\n",
    "SMS_No_df = df.loc[(df['SMS_received']== 0 ) & (df['Age'] >=55) & (df['Age'] <= 64)]['No-show'].mean()\n",
    "\n",
    "print(f'No-show percentage with SMS is {SMS_df*100:.2f}, while {SMS_No_df*100:.2f}  without SMS.')"
   ]
  },
  {
   "cell_type": "markdown",
   "id": "6d50c35f",
   "metadata": {},
   "source": [
    "More than 65 (Old)"
   ]
  },
  {
   "cell_type": "code",
   "execution_count": 64,
   "id": "efaf17d6",
   "metadata": {},
   "outputs": [
    {
     "name": "stdout",
     "output_type": "stream",
     "text": [
      "No-show percentage with SMS is 80.31, while 86.34  without SMS.\n"
     ]
    }
   ],
   "source": [
    "SMS_df = df.loc[(df['SMS_received'] == 1 ) & (df['Age']>=65)]['No-show'].mean()\n",
    "SMS_No_df = df.loc[(df['SMS_received']== 0 ) & (df['Age'] >=65)]['No-show'].mean()\n",
    "\n",
    "print(f'No-show percentage with SMS is {SMS_df*100:.2f}, while {SMS_No_df*100:.2f}  without SMS.')"
   ]
  },
  {
   "cell_type": "markdown",
   "id": "611463ce",
   "metadata": {},
   "source": [
    "##### Outcomes:\n",
    ">- it seems like the percentage of Show ups increase with SMS with increasing age."
   ]
  },
  {
   "cell_type": "markdown",
   "id": "45056159",
   "metadata": {},
   "source": [
    "##### Answer:\n",
    ">- percentage of Show ups increase with SMS with increasing age.\n",
    ">- Percentage of patients who shows up increases when the duration is larger.\n",
    ">- we can't be quiet sure of the answer because data doesn't mention the time of sending SMS! maybe this information will show more and may be need to be improved."
   ]
  },
  {
   "cell_type": "markdown",
   "id": "6500ec6f",
   "metadata": {},
   "source": [
    "# Question 7\n",
    ">- What is percentage of patients who diagnosed with Diabetes, Hipertension, Alcoholism, and Handcap"
   ]
  },
  {
   "cell_type": "code",
   "execution_count": 65,
   "id": "0574492c",
   "metadata": {},
   "outputs": [
    {
     "name": "stdout",
     "output_type": "stream",
     "text": [
      "<class 'pandas.core.frame.DataFrame'>\n",
      "Int64Index: 110526 entries, 0 to 110526\n",
      "Data columns (total 15 columns):\n",
      " #   Column          Non-Null Count   Dtype              \n",
      "---  ------          --------------   -----              \n",
      " 0   PatientId       110526 non-null  object             \n",
      " 1   AppointmentID   110526 non-null  object             \n",
      " 2   Gender          110526 non-null  object             \n",
      " 3   ScheduledDay    110526 non-null  datetime64[ns, UTC]\n",
      " 4   AppointmentDay  110526 non-null  datetime64[ns, UTC]\n",
      " 5   Age             110526 non-null  int64              \n",
      " 6   Neighbourhood   110526 non-null  object             \n",
      " 7   Scholarship     110526 non-null  int64              \n",
      " 8   Hipertension    110526 non-null  int64              \n",
      " 9   Diabetes        110526 non-null  int64              \n",
      " 10  Alcoholism      110526 non-null  int64              \n",
      " 11  Handcap         110526 non-null  int64              \n",
      " 12  SMS_received    110526 non-null  int64              \n",
      " 13  No-show         110526 non-null  int64              \n",
      " 14  time_duration   110526 non-null  int64              \n",
      "dtypes: datetime64[ns, UTC](2), int64(9), object(4)\n",
      "memory usage: 13.5+ MB\n"
     ]
    }
   ],
   "source": [
    "df.info()"
   ]
  },
  {
   "cell_type": "code",
   "execution_count": 66,
   "id": "decd2c11",
   "metadata": {},
   "outputs": [],
   "source": [
    "count = 110526 #number of data records"
   ]
  },
  {
   "cell_type": "code",
   "execution_count": 67,
   "id": "49d3af83",
   "metadata": {},
   "outputs": [
    {
     "name": "stdout",
     "output_type": "stream",
     "text": [
      "Percentage of patients who diagnosed with Diabetes is 7.19.\n"
     ]
    }
   ],
   "source": [
    "#percentage of people diagnosed with Diabetes\n",
    "count_diabets = df[df['Diabetes']==1]['PatientId'].count()\n",
    "print(f\"Percentage of patients who diagnosed with Diabetes is {count_diabets*100/count:.2f}.\")"
   ]
  },
  {
   "cell_type": "code",
   "execution_count": 68,
   "id": "e9521ca2",
   "metadata": {},
   "outputs": [
    {
     "name": "stdout",
     "output_type": "stream",
     "text": [
      "Percentage of patients who diagnosed with Hipertension is 19.72.\n"
     ]
    }
   ],
   "source": [
    "#percentage of people diagnosed with Diabetes\n",
    "count_diabets = df[df['Hipertension']==1]['PatientId'].count()\n",
    "print(f\"Percentage of patients who diagnosed with Hipertension is {count_diabets*100/count:.2f}.\")"
   ]
  },
  {
   "cell_type": "code",
   "execution_count": 69,
   "id": "1b65380e",
   "metadata": {},
   "outputs": [
    {
     "name": "stdout",
     "output_type": "stream",
     "text": [
      "Percentage of patients who diagnosed with Handcap is 1.85.\n"
     ]
    }
   ],
   "source": [
    "#percentage of people diagnosed with Diabetes\n",
    "count_diabets = df[df['Handcap']==1]['PatientId'].count()\n",
    "print(f\"Percentage of patients who diagnosed with Handcap is {count_diabets*100/count:.2f}.\")"
   ]
  },
  {
   "cell_type": "markdown",
   "id": "0852c3cd",
   "metadata": {},
   "source": [
    "# Question 8\n",
    ">- Is alcohol drinking may be a cause of missing out the appointements?"
   ]
  },
  {
   "cell_type": "code",
   "execution_count": 70,
   "id": "569562c7",
   "metadata": {},
   "outputs": [
    {
     "name": "stdout",
     "output_type": "stream",
     "text": [
      "Percentage of show ups when patients have alchoholism is 2.43%, while not show ups is 0.61%.\n"
     ]
    }
   ],
   "source": [
    "Alcoholism_show = df.loc[(df['Alcoholism'] == 1) & (df['No-show']==1)]['PatientId'].count()\n",
    "Alcoholism_No_show = df.loc[(df['Alcoholism'] == 1) & (df['No-show']==0)]['PatientId'].count()\n",
    "print(f\"Percentage of show ups when patients have alchoholism is {Alcoholism_show*100/count:.2f}%, while not show ups is {Alcoholism_No_show*100/count:.2f}%.\")"
   ]
  },
  {
   "cell_type": "markdown",
   "id": "3b66c666",
   "metadata": {},
   "source": [
    "##### Answer:\n",
    ">- it doesn't make them missing the appointments as most of them didn't miss theirs."
   ]
  },
  {
   "cell_type": "code",
   "execution_count": null,
   "id": "32d110e3",
   "metadata": {},
   "outputs": [],
   "source": []
  }
 ],
 "metadata": {
  "kernelspec": {
   "display_name": "Python 3",
   "language": "python",
   "name": "python3"
  },
  "language_info": {
   "codemirror_mode": {
    "name": "ipython",
    "version": 3
   },
   "file_extension": ".py",
   "mimetype": "text/x-python",
   "name": "python",
   "nbconvert_exporter": "python",
   "pygments_lexer": "ipython3",
   "version": "3.8.8"
  }
 },
 "nbformat": 4,
 "nbformat_minor": 5
}
